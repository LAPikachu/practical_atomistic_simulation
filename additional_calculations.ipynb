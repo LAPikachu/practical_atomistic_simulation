{
 "cells": [
  {
   "cell_type": "markdown",
   "id": "758d8130-c556-471b-8dd5-8e9c960a6d65",
   "metadata": {},
   "source": [
    "# transform units of parameters from J to eV\n",
    "### LJ \\epsilon and \\sigma"
   ]
  },
  {
   "cell_type": "code",
   "execution_count": 1,
   "id": "cd83ef3a-7f39-4b7b-95ca-31b80bf0dc24",
   "metadata": {},
   "outputs": [],
   "source": [
    "import numpy as np\n",
    "import scipy"
   ]
  },
  {
   "cell_type": "code",
   "execution_count": 2,
   "id": "cb3e3c60-eab2-43d6-9edc-68aac1f017b3",
   "metadata": {},
   "outputs": [],
   "source": [
    "epsilon_joule = 6.567e-20\n",
    "sigma_angstrom = 2.334e-10"
   ]
  },
  {
   "cell_type": "code",
   "execution_count": null,
   "id": "90ece757",
   "metadata": {},
   "outputs": [],
   "source": []
  },
  {
   "cell_type": "code",
   "execution_count": 3,
   "id": "338490e4-cf4f-48a7-a98e-270a0c2ce001",
   "metadata": {},
   "outputs": [],
   "source": [
    "def convert(input, factor):\n",
    "    return input * factor"
   ]
  },
  {
   "cell_type": "code",
   "execution_count": 4,
   "id": "80acb24e-153f-46d9-b03a-0ef86b211c09",
   "metadata": {},
   "outputs": [
    {
     "name": "stdout",
     "output_type": "stream",
     "text": [
      "0.40987990091983834 4.4106204573924e-10\n"
     ]
    }
   ],
   "source": [
    "epsilon_eV = convert(epsilon_joule, 1/1.602176634e-19 )\n",
    "sigma_bohr = convert(sigma_angstrom, 1.8897259886)\n",
    "print(epsilon_eV, sigma_bohr)\n"
   ]
  },
  {
   "cell_type": "markdown",
   "id": "615a1d8d",
   "metadata": {},
   "source": [
    "# Calulate lattice constants"
   ]
  },
  {
   "cell_type": "code",
   "execution_count": 5,
   "id": "df5b868a",
   "metadata": {},
   "outputs": [
    {
     "name": "stdout",
     "output_type": "stream",
     "text": [
      "L_sc: 256, L_bcc 295.60333782508843, L_fcc 362.0386719675123\n"
     ]
    }
   ],
   "source": [
    "# length in pm\n",
    "a = 128\n",
    "L_sc = a*2\n",
    "L_bcc = 4*a/(np.sqrt(3))\n",
    "L_fcc = 4*a/(np.sqrt(2))\n",
    "print(f\"L_sc: {L_sc}, L_bcc {L_bcc}, L_fcc {L_fcc}\")"
   ]
  },
  {
   "cell_type": "code",
   "execution_count": 6,
   "id": "9039a919",
   "metadata": {},
   "outputs": [],
   "source": [
    "L_sc_angstrom = convert(L_sc, 0.01)\n",
    "L_bcc_angstrom = convert(L_bcc, 0.01)\n",
    "L_sc_angstrom = convert(L_sc, 0.01)"
   ]
  },
  {
   "cell_type": "code",
   "execution_count": null,
   "id": "3569a39e-5924-4e1e-9ffc-e7728b4986c4",
   "metadata": {},
   "outputs": [],
   "source": []
  },
  {
   "cell_type": "code",
   "execution_count": null,
   "id": "a525417f-5a08-494f-bd4f-1e4a16a7b3be",
   "metadata": {},
   "outputs": [],
   "source": []
  }
 ],
 "metadata": {
  "kernelspec": {
   "display_name": "Python 3 (ipykernel)",
   "language": "python",
   "name": "python3"
  },
  "language_info": {
   "codemirror_mode": {
    "name": "ipython",
    "version": 3
   },
   "file_extension": ".py",
   "mimetype": "text/x-python",
   "name": "python",
   "nbconvert_exporter": "python",
   "pygments_lexer": "ipython3",
   "version": "3.11.5"
  }
 },
 "nbformat": 4,
 "nbformat_minor": 5
}
